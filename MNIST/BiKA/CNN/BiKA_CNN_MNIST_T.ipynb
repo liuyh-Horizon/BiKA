{
 "cells": [
  {
   "cell_type": "markdown",
   "id": "707d0791-8001-428d-9309-bd4a7c256388",
   "metadata": {},
   "source": [
    "# Define BiKA Linear and Conv2d Layer"
   ]
  },
  {
   "cell_type": "code",
   "execution_count": 1,
   "id": "00402cad-d3fc-4c0a-81e1-6bce7dd3ec11",
   "metadata": {
    "execution": {
     "iopub.execute_input": "2025-01-16T22:13:16.235212Z",
     "iopub.status.busy": "2025-01-16T22:13:16.234749Z",
     "iopub.status.idle": "2025-01-16T22:13:17.414105Z",
     "shell.execute_reply": "2025-01-16T22:13:17.413139Z"
    }
   },
   "outputs": [],
   "source": [
    "import math\n",
    "import torch\n",
    "import torch.nn as nn\n",
    "from torch.nn import Module\n",
    "import torch.nn.functional as F"
   ]
  },
  {
   "cell_type": "code",
   "execution_count": 2,
   "id": "9fa09636-d05f-48a7-a831-13312a059f5e",
   "metadata": {
    "execution": {
     "iopub.execute_input": "2025-01-16T22:13:17.416885Z",
     "iopub.status.busy": "2025-01-16T22:13:17.416633Z",
     "iopub.status.idle": "2025-01-16T22:13:17.423230Z",
     "shell.execute_reply": "2025-01-16T22:13:17.422504Z"
    }
   },
   "outputs": [],
   "source": [
    "class CustomSignFunction(torch.autograd.Function):\n",
    "    @staticmethod\n",
    "    def forward(ctx, input):\n",
    "        # Save the input for backward computation\n",
    "        ctx.save_for_backward(input)\n",
    "        # Output +1 for input > 0, else -1 (including for input == 0)\n",
    "        return torch.where(input > 0, torch.tensor(1.0, device=input.device), torch.tensor(-1.0, device=input.device))\n",
    "\n",
    "    @staticmethod\n",
    "    def backward(ctx, grad_output):\n",
    "        # Retrieve the input saved in the forward pass\n",
    "        input, = ctx.saved_tensors\n",
    "        # Gradient of the input is the same as the gradient output (STE)\n",
    "        grad_input = grad_output.clone()\n",
    "        # Pass the gradient only where input was non-zero, otherwise set it to 0\n",
    "        grad_input[input.abs() > 0] = grad_output[input.abs() > 0]\n",
    "        return grad_input\n",
    "\n",
    "# Wrapper class for convenience\n",
    "class CustomSignActivation(torch.nn.Module):\n",
    "    def __init__(self):\n",
    "        super(CustomSignActivation, self).__init__()\n",
    "\n",
    "    def forward(self, input):\n",
    "        return CustomSignFunction.apply(input)"
   ]
  },
  {
   "cell_type": "code",
   "execution_count": 3,
   "id": "5cc9c21b-d8da-440e-8fb9-a5ea0f867960",
   "metadata": {
    "execution": {
     "iopub.execute_input": "2025-01-16T22:13:17.425696Z",
     "iopub.status.busy": "2025-01-16T22:13:17.425421Z",
     "iopub.status.idle": "2025-01-16T22:13:17.433033Z",
     "shell.execute_reply": "2025-01-16T22:13:17.432464Z"
    }
   },
   "outputs": [],
   "source": [
    "class BiKALinear(nn.Module):\n",
    "    def __init__(self, in_features, out_features):\n",
    "        super(BiKALinear, self).__init__()\n",
    "        \n",
    "        self.in_features = in_features\n",
    "        self.out_features = out_features\n",
    "        self.weight = nn.Parameter(torch.Tensor(out_features, in_features))\n",
    "        self.bias = nn.Parameter(torch.Tensor(out_features, in_features))\n",
    "        self.sign = CustomSignActivation()\n",
    "            \n",
    "        self.reset_parameters()\n",
    "\n",
    "    def reset_parameters(self):\n",
    "        nn.init.kaiming_uniform_(self.weight, a=math.sqrt(5))\n",
    "        fan_in, _ = nn.init._calculate_fan_in_and_fan_out(self.weight)\n",
    "        bound = 1 / math.sqrt(fan_in)\n",
    "        nn.init.uniform_(self.bias, -bound, bound)\n",
    "\n",
    "    def forward(self, x):\n",
    "        # Expand the input to match the bias shape for broadcasting\n",
    "        # x is of shape (batch_size, in_features)\n",
    "        # Expand bias matrix to (batch_size, out_features, in_features)\n",
    "        x = x.unsqueeze(1) + self.bias.unsqueeze(0)\n",
    "        \n",
    "        # Perform element-wise multiplication with weights\n",
    "        x = x * self.weight.unsqueeze(0)\n",
    "        \n",
    "        # Apply sign function: -1 for negative and 0, 1 for positive\n",
    "        x = self.sign(x)\n",
    "        \n",
    "        # Sum the thresholded products along the input features dimension\n",
    "        x = torch.sum(x, dim=-1) \n",
    "\n",
    "        return x"
   ]
  },
  {
   "cell_type": "code",
   "execution_count": 4,
   "id": "aac07401-e5d4-4022-bfd0-2ccc6711cdcf",
   "metadata": {
    "execution": {
     "iopub.execute_input": "2025-01-16T22:13:17.435469Z",
     "iopub.status.busy": "2025-01-16T22:13:17.434949Z",
     "iopub.status.idle": "2025-01-16T22:13:17.442013Z",
     "shell.execute_reply": "2025-01-16T22:13:17.441299Z"
    }
   },
   "outputs": [],
   "source": [
    "class BiKAConv2D(nn.Module):\n",
    "    def __init__(self, in_channels, out_channels, kernel_size, stride=1, padding=0, dilation=1):\n",
    "        super(BiKAConv2D, self).__init__()\n",
    "        # Define weights for convolution\n",
    "        self.weight = nn.Parameter(\n",
    "            torch.randn(out_channels, in_channels, kernel_size, kernel_size)\n",
    "        )\n",
    "        # Define an individual bias for each weight in the kernel\n",
    "        self.bias = nn.Parameter(\n",
    "            torch.randn(out_channels, in_channels, kernel_size, kernel_size)\n",
    "        )\n",
    "        self.sign = CustomSignActivation()\n",
    "        self.in_channels = in_channels\n",
    "        self.out_channels = out_channels\n",
    "        self.kernel_size = kernel_size\n",
    "        self.stride = stride\n",
    "        self.padding = padding\n",
    "        self.dilation = dilation\n",
    "\n",
    "    def forward(self, x):   \n",
    "        batch_size, in_channels, height, width = x.shape\n",
    "        out_height = int((height + 2*self.padding-self.dilation*(self.kernel_size-1)-1)/self.stride+1)\n",
    "        out_width = int((width + 2*self.padding-self.dilation*(self.kernel_size-1)-1)/self.stride+1)\n",
    "        unfold_length = out_height*out_width\n",
    "        \n",
    "        # Add the bias to each activation before multiplying by the weight\n",
    "        # Equivalent to computing w * (a + b) for each kernel position\n",
    "        modified_input = F.unfold(x, kernel_size=self.weight.shape[2:], stride=self.stride, padding=self.padding)\n",
    "        modified_input = modified_input.view(x.shape[0], x.shape[1], self.weight.shape[2], self.weight.shape[3], -1).unsqueeze(1)\n",
    "        modified_bias = self.bias.unsqueeze(-1).unsqueeze(0)\n",
    "        modified_input = modified_input + modified_bias\n",
    "        modified_input = modified_input.view(x.shape[0], -1, modified_input.shape[-1])\n",
    "        \n",
    "        # Perform the convolution with the modified input\n",
    "        modified_weight = self.weight.view(-1).unsqueeze(0).unsqueeze(2)\n",
    "        output=modified_input * modified_weight\n",
    "        \n",
    "        # Apply sign function: -1 for negative and 0, 1 for positive\n",
    "        output = self.sign(output)\n",
    "        \n",
    "        # Sum the thresholded products along the input features dimension\n",
    "        output = output.view(batch_size, self.out_channels, in_channels*self.kernel_size*self.kernel_size,unfold_length)\n",
    "        output = output.sum(dim=2) \n",
    "        output = output.view(batch_size, self.out_channels, out_height, out_width)\n",
    "\n",
    "        return output"
   ]
  },
  {
   "cell_type": "markdown",
   "id": "e4aaa43d-21ca-457a-affd-82b2d289f818",
   "metadata": {},
   "source": [
    "# Try Tiny CNN-like BiKA with MNIST"
   ]
  },
  {
   "cell_type": "markdown",
   "id": "2f8ad8c1-45ae-4429-861a-cd06e97010f8",
   "metadata": {},
   "source": [
    "## 1. Dataset Loading"
   ]
  },
  {
   "cell_type": "code",
   "execution_count": 5,
   "id": "12f1b71b-6b55-44a6-b75a-83cc13602bcd",
   "metadata": {
    "execution": {
     "iopub.execute_input": "2025-01-16T22:13:17.444489Z",
     "iopub.status.busy": "2025-01-16T22:13:17.444233Z",
     "iopub.status.idle": "2025-01-16T22:13:17.803468Z",
     "shell.execute_reply": "2025-01-16T22:13:17.802519Z"
    }
   },
   "outputs": [],
   "source": [
    "import torchvision\n",
    "from torchvision import datasets\n",
    "from torchvision import transforms\n",
    "from torch.autograd import Variable\n",
    "from torch.utils.data import DataLoader, random_split"
   ]
  },
  {
   "cell_type": "code",
   "execution_count": 6,
   "id": "e32827cb-5c2d-4750-82b3-75c0e160c3cb",
   "metadata": {
    "execution": {
     "iopub.execute_input": "2025-01-16T22:13:17.806160Z",
     "iopub.status.busy": "2025-01-16T22:13:17.805930Z",
     "iopub.status.idle": "2025-01-16T22:13:17.913510Z",
     "shell.execute_reply": "2025-01-16T22:13:17.912519Z"
    }
   },
   "outputs": [],
   "source": [
    "full_data_train = torchvision.datasets.MNIST('./data/', \n",
    "                                        train=True, download=True,\n",
    "                                        transform=torchvision.transforms.Compose\n",
    "                                        ([\n",
    "                                            torchvision.transforms.ToTensor(),\n",
    "                                            torchvision.transforms.Normalize((0.5,), (0.5,))\n",
    "                                        ]))\n",
    "\n",
    "# Split the dataset into training and validation subsets\n",
    "train_size = int(0.8 * len(full_data_train))\n",
    "val_size = len(full_data_train) - train_size\n",
    "data_train, data_valid = random_split(full_data_train, [train_size, val_size])\n",
    "\n",
    "data_test = torchvision.datasets.MNIST('./data/', \n",
    "                                       train=False, download=True,\n",
    "                                       transform=torchvision.transforms.Compose\n",
    "                                       ([\n",
    "                                            torchvision.transforms.ToTensor(),\n",
    "                                            torchvision.transforms.Normalize((0.5,), (0.5,))\n",
    "                                       ]))"
   ]
  },
  {
   "cell_type": "markdown",
   "id": "15b41f69-98bd-4715-bb09-323e6fb749d3",
   "metadata": {},
   "source": [
    "## 2. Define CNN-like BiKA structure"
   ]
  },
  {
   "cell_type": "code",
   "execution_count": 7,
   "id": "19753678-871a-469c-b544-c79048d99462",
   "metadata": {
    "execution": {
     "iopub.execute_input": "2025-01-16T22:13:17.916087Z",
     "iopub.status.busy": "2025-01-16T22:13:17.915897Z",
     "iopub.status.idle": "2025-01-16T22:13:18.626336Z",
     "shell.execute_reply": "2025-01-16T22:13:18.625487Z"
    }
   },
   "outputs": [],
   "source": [
    "import math\n",
    "import torch\n",
    "import torch.nn as nn\n",
    "from torch.nn import Module\n",
    "import torch.nn.functional as F\n",
    "import torch.optim as optim\n",
    "from sklearn.metrics import accuracy_score\n",
    "from itertools import product\n",
    "import matplotlib.pyplot as plt\n",
    "import numpy as np\n",
    "from tqdm import tqdm, trange"
   ]
  },
  {
   "cell_type": "code",
   "execution_count": 8,
   "id": "6e1d3ae1-af90-4a5d-8d1c-f54a448fb719",
   "metadata": {
    "execution": {
     "iopub.execute_input": "2025-01-16T22:13:18.628672Z",
     "iopub.status.busy": "2025-01-16T22:13:18.628448Z",
     "iopub.status.idle": "2025-01-16T22:13:19.070690Z",
     "shell.execute_reply": "2025-01-16T22:13:19.069770Z"
    }
   },
   "outputs": [],
   "source": [
    "import brevitas.nn as qnn\n",
    "from brevitas.nn import QuantLinear, QuantReLU, QuantConv2d\n",
    "from brevitas.quant.binary import SignedBinaryActPerTensorConst\n",
    "from brevitas.quant.binary import SignedBinaryWeightPerTensorConst\n",
    "from brevitas.inject.enum import QuantType"
   ]
  },
  {
   "cell_type": "code",
   "execution_count": 9,
   "id": "fffae836-5a45-4667-a622-b71b7b79eea7",
   "metadata": {
    "execution": {
     "iopub.execute_input": "2025-01-16T22:13:19.073209Z",
     "iopub.status.busy": "2025-01-16T22:13:19.073033Z",
     "iopub.status.idle": "2025-01-16T22:13:19.076314Z",
     "shell.execute_reply": "2025-01-16T22:13:19.075754Z"
    }
   },
   "outputs": [],
   "source": [
    "kernel_size=3    \n",
    "\n",
    "in_channels0=1\n",
    "out_channels0=64 \n",
    "\n",
    "in_channels1=out_channels0\n",
    "out_channels1=64\n",
    "\n",
    "input_size = 7*7*out_channels1\n",
    "hidden0 = 64   \n",
    "num_classes = 10  "
   ]
  },
  {
   "cell_type": "code",
   "execution_count": 10,
   "id": "4e99d4da-52ea-4f61-88a3-6d1915f948c9",
   "metadata": {
    "execution": {
     "iopub.execute_input": "2025-01-16T22:13:19.078560Z",
     "iopub.status.busy": "2025-01-16T22:13:19.078148Z",
     "iopub.status.idle": "2025-01-16T22:13:19.083223Z",
     "shell.execute_reply": "2025-01-16T22:13:19.082651Z"
    },
    "tags": []
   },
   "outputs": [],
   "source": [
    "class BiKA_MNIST(Module):\n",
    "    def __init__(self):\n",
    "        super(BiKA_MNIST, self).__init__()\n",
    "        \n",
    "        self.conv0 = BiKAConv2D(in_channels=in_channels0, out_channels=out_channels0, kernel_size=kernel_size, stride=1, padding=1)\n",
    "        self.pool0 = nn.MaxPool2d(2)\n",
    "        \n",
    "        self.conv1 = BiKAConv2D(in_channels=in_channels1, out_channels=out_channels1, kernel_size=kernel_size, stride=1, padding=1)\n",
    "        self.pool1 = nn.MaxPool2d(2)\n",
    "        \n",
    "        self.fc0   = BiKALinear(in_features=input_size, out_features=hidden0)\n",
    "        \n",
    "        self.out   = BiKALinear(in_features=hidden0, out_features=num_classes)\n",
    "\n",
    "    def forward(self, x):\n",
    "        \n",
    "        out = self.pool0((self.conv0(x)))\n",
    "        out = self.pool1((self.conv1(out)))\n",
    "        out = out.reshape(out.shape[0], -1)\n",
    "        out = self.fc0(out)\n",
    "        out = self.out(out)\n",
    "        \n",
    "        return out"
   ]
  },
  {
   "cell_type": "markdown",
   "id": "fc6bfa66-0786-48b6-a2c7-62a94d5ae948",
   "metadata": {},
   "source": [
    "## 3. Define Training Function"
   ]
  },
  {
   "cell_type": "code",
   "execution_count": 11,
   "id": "22e7ec2a-4aa2-4c9c-89ae-09249e4138c5",
   "metadata": {
    "execution": {
     "iopub.execute_input": "2025-01-16T22:13:19.085309Z",
     "iopub.status.busy": "2025-01-16T22:13:19.085156Z",
     "iopub.status.idle": "2025-01-16T22:13:19.110046Z",
     "shell.execute_reply": "2025-01-16T22:13:19.109459Z"
    }
   },
   "outputs": [
    {
     "name": "stdout",
     "output_type": "stream",
     "text": [
      "2\n",
      "Using device: cuda:1\n"
     ]
    },
    {
     "data": {
      "text/plain": [
       "<torch._C.Generator at 0x7f42350c5970>"
      ]
     },
     "execution_count": 11,
     "metadata": {},
     "output_type": "execute_result"
    }
   ],
   "source": [
    "num_of_gpus = torch.cuda.device_count()\n",
    "print(num_of_gpus)\n",
    "\n",
    "# Check for GPU\n",
    "device = torch.device(\"cuda:1\" if torch.cuda.is_available() else \"cpu\")\n",
    "print(f\"Using device: {device}\")\n",
    "\n",
    "# Setting seeds for reproducibility\n",
    "torch.manual_seed(0)"
   ]
  },
  {
   "cell_type": "code",
   "execution_count": 12,
   "id": "beeb67fa-cc4e-40c2-be6e-47391d8b0cf5",
   "metadata": {
    "execution": {
     "iopub.execute_input": "2025-01-16T22:13:19.112117Z",
     "iopub.status.busy": "2025-01-16T22:13:19.111961Z",
     "iopub.status.idle": "2025-01-16T22:13:19.115208Z",
     "shell.execute_reply": "2025-01-16T22:13:19.114642Z"
    }
   },
   "outputs": [],
   "source": [
    "def display_loss_plot(losses, title=\"Training loss\", xlabel=\"Iterations\", ylabel=\"Loss\"):\n",
    "    x_axis = [i for i in range(len(losses))]\n",
    "    plt.plot(x_axis,losses)\n",
    "    plt.title(title)\n",
    "    plt.xlabel(xlabel)\n",
    "    plt.ylabel(ylabel)\n",
    "    plt.show()"
   ]
  },
  {
   "cell_type": "code",
   "execution_count": 13,
   "id": "21b349be-f48a-4668-a3e4-0330a4f9b408",
   "metadata": {
    "execution": {
     "iopub.execute_input": "2025-01-16T22:13:19.117543Z",
     "iopub.status.busy": "2025-01-16T22:13:19.117039Z",
     "iopub.status.idle": "2025-01-16T22:13:19.123242Z",
     "shell.execute_reply": "2025-01-16T22:13:19.122676Z"
    }
   },
   "outputs": [],
   "source": [
    "def train_and_validate(model, train_loader, val_loader, criterion, learning_rate):\n",
    "    model.train()\n",
    "    \n",
    "    optimizer = optim.Adam(model.parameters(), lr=learning_rate[0])\n",
    "    \n",
    "    for epoch in range(100):\n",
    "        running_loss = 0.0\n",
    "        for images, labels in train_loader:\n",
    "            images, labels = images.to(device), labels.to(device)\n",
    "            \n",
    "            # Forward pass\n",
    "            outputs = model(images)\n",
    "            loss = criterion(outputs, labels)\n",
    "\n",
    "            # Backward pass\n",
    "            optimizer.zero_grad()\n",
    "            loss.backward()\n",
    "            optimizer.step()\n",
    "\n",
    "            running_loss += loss.item()\n",
    "            \n",
    "        # Adjust learning rate at epoch 100\n",
    "        if epoch+1 == 50:\n",
    "            for param_group in optimizer.param_groups:\n",
    "                param_group['lr'] = learning_rate[1]\n",
    "                print(f\"Learning rate changed to {param_group['lr']} at epoch {epoch+1}\")\n",
    "        \n",
    "        # Adjust learning rate at epoch 150\n",
    "        if epoch+1 == 75:\n",
    "            for param_group in optimizer.param_groups:\n",
    "                param_group['lr'] = learning_rate[2]\n",
    "                print(f\"Learning rate changed to {param_group['lr']} at epoch {epoch+1}\")\n",
    "\n",
    "        # Validation phase\n",
    "        model.eval()\n",
    "        all_preds = []\n",
    "        all_labels = []\n",
    "        with torch.no_grad():\n",
    "            for images, labels in val_loader:\n",
    "                images, labels = images.to(device), labels.to(device)\n",
    "                outputs = model(images)\n",
    "                _, preds = torch.max(outputs, 1)\n",
    "                all_preds.extend(preds.cpu().numpy())\n",
    "                all_labels.extend(labels.cpu().numpy())\n",
    "\n",
    "        val_acc = accuracy_score(all_labels, all_preds)\n",
    "        print(f\"Epoch [{epoch+1}/{100}], \"\n",
    "              f\"Train Loss: {running_loss/len(train_loader):.4f}, \"\n",
    "              f\"Val Accuracy: {val_acc*100:.2f}%\")\n",
    "        \n",
    "    return val_acc"
   ]
  },
  {
   "cell_type": "markdown",
   "id": "860c8d46-9122-46b1-82b2-b32a2cf5ba20",
   "metadata": {},
   "source": [
    "## 4. Define Evaluation Function"
   ]
  },
  {
   "cell_type": "code",
   "execution_count": 14,
   "id": "751b60f8-018d-480f-9a95-723d5c185904",
   "metadata": {
    "execution": {
     "iopub.execute_input": "2025-01-16T22:13:19.125282Z",
     "iopub.status.busy": "2025-01-16T22:13:19.125126Z",
     "iopub.status.idle": "2025-01-16T22:13:19.128987Z",
     "shell.execute_reply": "2025-01-16T22:13:19.128425Z"
    }
   },
   "outputs": [],
   "source": [
    "def evaluate_model(model, test_loader):\n",
    "    model.eval()\n",
    "    all_preds = []\n",
    "    all_labels = []\n",
    "    with torch.no_grad():\n",
    "        for images, labels in test_loader:\n",
    "            images, labels = images.to(device), labels.to(device)\n",
    "            outputs = model(images)\n",
    "            _, preds = torch.max(outputs, 1)\n",
    "            all_preds.extend(preds.cpu().numpy())\n",
    "            all_labels.extend(labels.cpu().numpy())\n",
    "    test_acc = accuracy_score(all_labels, all_preds)\n",
    "    print(f\"Test Accuracy: {test_acc * 100:.2f}%\")\n",
    "    return test_acc"
   ]
  },
  {
   "cell_type": "markdown",
   "id": "a57ffab9-dbaa-432a-a771-5873971b4bfe",
   "metadata": {},
   "source": [
    "## 5. Train CNN-like BiKA for MNIST"
   ]
  },
  {
   "cell_type": "code",
   "execution_count": 15,
   "id": "0f7adc89-8b0f-474c-9f0a-4fd4908f7481",
   "metadata": {
    "execution": {
     "iopub.execute_input": "2025-01-16T22:13:19.131135Z",
     "iopub.status.busy": "2025-01-16T22:13:19.130723Z",
     "iopub.status.idle": "2025-01-16T22:13:19.133419Z",
     "shell.execute_reply": "2025-01-16T22:13:19.132871Z"
    }
   },
   "outputs": [],
   "source": [
    "batch_sizes = [128]\n",
    "learning_rates = [\n",
    "                  [0.0010, 0.0010, 0.0001]\n",
    "                 ]"
   ]
  },
  {
   "cell_type": "code",
   "execution_count": 16,
   "id": "ee8b6634-e421-4c17-82cc-6acc24d6eb5d",
   "metadata": {
    "execution": {
     "iopub.execute_input": "2025-01-16T22:13:19.135383Z",
     "iopub.status.busy": "2025-01-16T22:13:19.135137Z",
     "iopub.status.idle": "2025-01-17T03:08:22.552794Z",
     "shell.execute_reply": "2025-01-17T03:08:22.551764Z"
    }
   },
   "outputs": [
    {
     "name": "stdout",
     "output_type": "stream",
     "text": [
      "Training with batch_size=128, learning_rate=[0.001, 0.001, 0.0001]\n"
     ]
    },
    {
     "name": "stdout",
     "output_type": "stream",
     "text": [
      "Epoch [1/100], Train Loss: 2.0419, Val Accuracy: 86.78%\n"
     ]
    },
    {
     "name": "stdout",
     "output_type": "stream",
     "text": [
      "Epoch [2/100], Train Loss: 1.1253, Val Accuracy: 88.52%\n"
     ]
    },
    {
     "name": "stdout",
     "output_type": "stream",
     "text": [
      "Epoch [3/100], Train Loss: 0.9457, Val Accuracy: 89.14%\n"
     ]
    },
    {
     "name": "stdout",
     "output_type": "stream",
     "text": [
      "Epoch [4/100], Train Loss: 0.8015, Val Accuracy: 91.12%\n"
     ]
    },
    {
     "name": "stdout",
     "output_type": "stream",
     "text": [
      "Epoch [5/100], Train Loss: 0.7112, Val Accuracy: 89.30%\n"
     ]
    },
    {
     "name": "stdout",
     "output_type": "stream",
     "text": [
      "Epoch [6/100], Train Loss: 0.8149, Val Accuracy: 90.57%\n"
     ]
    },
    {
     "name": "stdout",
     "output_type": "stream",
     "text": [
      "Epoch [7/100], Train Loss: 0.8715, Val Accuracy: 90.34%\n"
     ]
    },
    {
     "name": "stdout",
     "output_type": "stream",
     "text": [
      "Epoch [8/100], Train Loss: 0.8274, Val Accuracy: 86.78%\n"
     ]
    },
    {
     "name": "stdout",
     "output_type": "stream",
     "text": [
      "Epoch [9/100], Train Loss: 0.8286, Val Accuracy: 89.07%\n"
     ]
    },
    {
     "name": "stdout",
     "output_type": "stream",
     "text": [
      "Epoch [10/100], Train Loss: 0.7794, Val Accuracy: 88.70%\n"
     ]
    },
    {
     "name": "stdout",
     "output_type": "stream",
     "text": [
      "Epoch [11/100], Train Loss: 0.7475, Val Accuracy: 90.09%\n"
     ]
    },
    {
     "name": "stdout",
     "output_type": "stream",
     "text": [
      "Epoch [12/100], Train Loss: 0.7216, Val Accuracy: 88.97%\n"
     ]
    },
    {
     "name": "stdout",
     "output_type": "stream",
     "text": [
      "Epoch [13/100], Train Loss: 0.7687, Val Accuracy: 89.22%\n"
     ]
    },
    {
     "name": "stdout",
     "output_type": "stream",
     "text": [
      "Epoch [14/100], Train Loss: 0.7556, Val Accuracy: 89.49%\n"
     ]
    },
    {
     "name": "stdout",
     "output_type": "stream",
     "text": [
      "Epoch [15/100], Train Loss: 0.7476, Val Accuracy: 89.80%\n"
     ]
    },
    {
     "name": "stdout",
     "output_type": "stream",
     "text": [
      "Epoch [16/100], Train Loss: 0.7161, Val Accuracy: 90.89%\n"
     ]
    },
    {
     "name": "stdout",
     "output_type": "stream",
     "text": [
      "Epoch [17/100], Train Loss: 0.7418, Val Accuracy: 90.72%\n"
     ]
    },
    {
     "name": "stdout",
     "output_type": "stream",
     "text": [
      "Epoch [18/100], Train Loss: 0.7154, Val Accuracy: 90.25%\n"
     ]
    },
    {
     "name": "stdout",
     "output_type": "stream",
     "text": [
      "Epoch [19/100], Train Loss: 0.7189, Val Accuracy: 87.51%\n"
     ]
    },
    {
     "name": "stdout",
     "output_type": "stream",
     "text": [
      "Epoch [20/100], Train Loss: 0.7027, Val Accuracy: 88.68%\n"
     ]
    },
    {
     "name": "stdout",
     "output_type": "stream",
     "text": [
      "Epoch [21/100], Train Loss: 0.7414, Val Accuracy: 89.88%\n"
     ]
    },
    {
     "name": "stdout",
     "output_type": "stream",
     "text": [
      "Epoch [22/100], Train Loss: 0.7263, Val Accuracy: 89.81%\n"
     ]
    },
    {
     "name": "stdout",
     "output_type": "stream",
     "text": [
      "Epoch [23/100], Train Loss: 0.7597, Val Accuracy: 90.30%\n"
     ]
    },
    {
     "name": "stdout",
     "output_type": "stream",
     "text": [
      "Epoch [24/100], Train Loss: 0.7605, Val Accuracy: 90.59%\n"
     ]
    },
    {
     "name": "stdout",
     "output_type": "stream",
     "text": [
      "Epoch [25/100], Train Loss: 0.7377, Val Accuracy: 90.14%\n"
     ]
    },
    {
     "name": "stdout",
     "output_type": "stream",
     "text": [
      "Epoch [26/100], Train Loss: 0.7052, Val Accuracy: 90.54%\n"
     ]
    },
    {
     "name": "stdout",
     "output_type": "stream",
     "text": [
      "Epoch [27/100], Train Loss: 0.7326, Val Accuracy: 89.43%\n"
     ]
    },
    {
     "name": "stdout",
     "output_type": "stream",
     "text": [
      "Epoch [28/100], Train Loss: 0.7543, Val Accuracy: 88.98%\n"
     ]
    },
    {
     "name": "stdout",
     "output_type": "stream",
     "text": [
      "Epoch [29/100], Train Loss: 0.7214, Val Accuracy: 88.01%\n"
     ]
    },
    {
     "name": "stdout",
     "output_type": "stream",
     "text": [
      "Epoch [30/100], Train Loss: 0.7756, Val Accuracy: 89.28%\n"
     ]
    },
    {
     "name": "stdout",
     "output_type": "stream",
     "text": [
      "Epoch [31/100], Train Loss: 0.7295, Val Accuracy: 88.66%\n"
     ]
    },
    {
     "name": "stdout",
     "output_type": "stream",
     "text": [
      "Epoch [32/100], Train Loss: 0.7381, Val Accuracy: 87.62%\n"
     ]
    },
    {
     "name": "stdout",
     "output_type": "stream",
     "text": [
      "Epoch [33/100], Train Loss: 0.7623, Val Accuracy: 88.69%\n"
     ]
    },
    {
     "name": "stdout",
     "output_type": "stream",
     "text": [
      "Epoch [34/100], Train Loss: 0.7395, Val Accuracy: 86.24%\n"
     ]
    },
    {
     "name": "stdout",
     "output_type": "stream",
     "text": [
      "Epoch [35/100], Train Loss: 0.7603, Val Accuracy: 88.26%\n"
     ]
    },
    {
     "name": "stdout",
     "output_type": "stream",
     "text": [
      "Epoch [36/100], Train Loss: 0.7342, Val Accuracy: 89.51%\n"
     ]
    },
    {
     "name": "stdout",
     "output_type": "stream",
     "text": [
      "Epoch [37/100], Train Loss: 0.7516, Val Accuracy: 87.68%\n"
     ]
    },
    {
     "name": "stdout",
     "output_type": "stream",
     "text": [
      "Epoch [38/100], Train Loss: 0.7670, Val Accuracy: 88.37%\n"
     ]
    },
    {
     "name": "stdout",
     "output_type": "stream",
     "text": [
      "Epoch [39/100], Train Loss: 0.7628, Val Accuracy: 89.26%\n"
     ]
    },
    {
     "name": "stdout",
     "output_type": "stream",
     "text": [
      "Epoch [40/100], Train Loss: 0.7931, Val Accuracy: 88.22%\n"
     ]
    },
    {
     "name": "stdout",
     "output_type": "stream",
     "text": [
      "Epoch [41/100], Train Loss: 0.7619, Val Accuracy: 87.99%\n"
     ]
    },
    {
     "name": "stdout",
     "output_type": "stream",
     "text": [
      "Epoch [42/100], Train Loss: 0.7570, Val Accuracy: 89.75%\n"
     ]
    },
    {
     "name": "stdout",
     "output_type": "stream",
     "text": [
      "Epoch [43/100], Train Loss: 0.7393, Val Accuracy: 88.74%\n"
     ]
    },
    {
     "name": "stdout",
     "output_type": "stream",
     "text": [
      "Epoch [44/100], Train Loss: 0.7469, Val Accuracy: 88.84%\n"
     ]
    },
    {
     "name": "stdout",
     "output_type": "stream",
     "text": [
      "Epoch [45/100], Train Loss: 0.7432, Val Accuracy: 89.62%\n"
     ]
    },
    {
     "name": "stdout",
     "output_type": "stream",
     "text": [
      "Epoch [46/100], Train Loss: 0.7538, Val Accuracy: 88.52%\n"
     ]
    },
    {
     "name": "stdout",
     "output_type": "stream",
     "text": [
      "Epoch [47/100], Train Loss: 0.7621, Val Accuracy: 89.16%\n"
     ]
    },
    {
     "name": "stdout",
     "output_type": "stream",
     "text": [
      "Epoch [48/100], Train Loss: 0.7557, Val Accuracy: 89.38%\n"
     ]
    },
    {
     "name": "stdout",
     "output_type": "stream",
     "text": [
      "Epoch [49/100], Train Loss: 0.7740, Val Accuracy: 89.22%\n"
     ]
    },
    {
     "name": "stdout",
     "output_type": "stream",
     "text": [
      "Learning rate changed to 0.001 at epoch 50\n"
     ]
    },
    {
     "name": "stdout",
     "output_type": "stream",
     "text": [
      "Epoch [50/100], Train Loss: 0.7530, Val Accuracy: 89.16%\n"
     ]
    },
    {
     "name": "stdout",
     "output_type": "stream",
     "text": [
      "Epoch [51/100], Train Loss: 0.7698, Val Accuracy: 88.82%\n"
     ]
    },
    {
     "name": "stdout",
     "output_type": "stream",
     "text": [
      "Epoch [52/100], Train Loss: 0.7799, Val Accuracy: 88.74%\n"
     ]
    },
    {
     "name": "stdout",
     "output_type": "stream",
     "text": [
      "Epoch [53/100], Train Loss: 0.7697, Val Accuracy: 88.73%\n"
     ]
    },
    {
     "name": "stdout",
     "output_type": "stream",
     "text": [
      "Epoch [54/100], Train Loss: 0.7608, Val Accuracy: 88.00%\n"
     ]
    },
    {
     "name": "stdout",
     "output_type": "stream",
     "text": [
      "Epoch [55/100], Train Loss: 0.7600, Val Accuracy: 88.98%\n"
     ]
    },
    {
     "name": "stdout",
     "output_type": "stream",
     "text": [
      "Epoch [56/100], Train Loss: 0.7569, Val Accuracy: 88.82%\n"
     ]
    },
    {
     "name": "stdout",
     "output_type": "stream",
     "text": [
      "Epoch [57/100], Train Loss: 0.7598, Val Accuracy: 89.12%\n"
     ]
    },
    {
     "name": "stdout",
     "output_type": "stream",
     "text": [
      "Epoch [58/100], Train Loss: 0.7427, Val Accuracy: 89.22%\n"
     ]
    },
    {
     "name": "stdout",
     "output_type": "stream",
     "text": [
      "Epoch [59/100], Train Loss: 0.7294, Val Accuracy: 87.83%\n"
     ]
    },
    {
     "name": "stdout",
     "output_type": "stream",
     "text": [
      "Epoch [60/100], Train Loss: 0.7220, Val Accuracy: 89.71%\n"
     ]
    },
    {
     "name": "stdout",
     "output_type": "stream",
     "text": [
      "Epoch [61/100], Train Loss: 0.7557, Val Accuracy: 89.10%\n"
     ]
    },
    {
     "name": "stdout",
     "output_type": "stream",
     "text": [
      "Epoch [62/100], Train Loss: 0.7486, Val Accuracy: 88.00%\n"
     ]
    },
    {
     "name": "stdout",
     "output_type": "stream",
     "text": [
      "Epoch [63/100], Train Loss: 0.7356, Val Accuracy: 89.56%\n"
     ]
    },
    {
     "name": "stdout",
     "output_type": "stream",
     "text": [
      "Epoch [64/100], Train Loss: 0.7129, Val Accuracy: 90.17%\n"
     ]
    },
    {
     "name": "stdout",
     "output_type": "stream",
     "text": [
      "Epoch [65/100], Train Loss: 0.7253, Val Accuracy: 89.28%\n"
     ]
    },
    {
     "name": "stdout",
     "output_type": "stream",
     "text": [
      "Epoch [66/100], Train Loss: 0.7533, Val Accuracy: 89.83%\n"
     ]
    },
    {
     "name": "stdout",
     "output_type": "stream",
     "text": [
      "Epoch [67/100], Train Loss: 0.7256, Val Accuracy: 88.02%\n"
     ]
    },
    {
     "name": "stdout",
     "output_type": "stream",
     "text": [
      "Epoch [68/100], Train Loss: 0.7433, Val Accuracy: 87.72%\n"
     ]
    },
    {
     "name": "stdout",
     "output_type": "stream",
     "text": [
      "Epoch [69/100], Train Loss: 0.7350, Val Accuracy: 88.81%\n"
     ]
    },
    {
     "name": "stdout",
     "output_type": "stream",
     "text": [
      "Epoch [70/100], Train Loss: 0.7408, Val Accuracy: 89.49%\n"
     ]
    },
    {
     "name": "stdout",
     "output_type": "stream",
     "text": [
      "Epoch [71/100], Train Loss: 0.7369, Val Accuracy: 89.10%\n"
     ]
    },
    {
     "name": "stdout",
     "output_type": "stream",
     "text": [
      "Epoch [72/100], Train Loss: 0.7379, Val Accuracy: 89.74%\n"
     ]
    },
    {
     "name": "stdout",
     "output_type": "stream",
     "text": [
      "Epoch [73/100], Train Loss: 0.7265, Val Accuracy: 89.70%\n"
     ]
    },
    {
     "name": "stdout",
     "output_type": "stream",
     "text": [
      "Epoch [74/100], Train Loss: 0.7229, Val Accuracy: 87.52%\n"
     ]
    },
    {
     "name": "stdout",
     "output_type": "stream",
     "text": [
      "Learning rate changed to 0.0001 at epoch 75\n"
     ]
    },
    {
     "name": "stdout",
     "output_type": "stream",
     "text": [
      "Epoch [75/100], Train Loss: 0.7407, Val Accuracy: 88.58%\n"
     ]
    },
    {
     "name": "stdout",
     "output_type": "stream",
     "text": [
      "Epoch [76/100], Train Loss: 0.6797, Val Accuracy: 89.55%\n"
     ]
    },
    {
     "name": "stdout",
     "output_type": "stream",
     "text": [
      "Epoch [77/100], Train Loss: 0.6677, Val Accuracy: 89.21%\n"
     ]
    },
    {
     "name": "stdout",
     "output_type": "stream",
     "text": [
      "Epoch [78/100], Train Loss: 0.6703, Val Accuracy: 89.40%\n"
     ]
    },
    {
     "name": "stdout",
     "output_type": "stream",
     "text": [
      "Epoch [79/100], Train Loss: 0.6900, Val Accuracy: 89.38%\n"
     ]
    },
    {
     "name": "stdout",
     "output_type": "stream",
     "text": [
      "Epoch [80/100], Train Loss: 0.6929, Val Accuracy: 89.84%\n"
     ]
    },
    {
     "name": "stdout",
     "output_type": "stream",
     "text": [
      "Epoch [81/100], Train Loss: 0.6998, Val Accuracy: 89.55%\n"
     ]
    },
    {
     "name": "stdout",
     "output_type": "stream",
     "text": [
      "Epoch [82/100], Train Loss: 0.7020, Val Accuracy: 89.38%\n"
     ]
    },
    {
     "name": "stdout",
     "output_type": "stream",
     "text": [
      "Epoch [83/100], Train Loss: 0.6782, Val Accuracy: 89.29%\n"
     ]
    },
    {
     "name": "stdout",
     "output_type": "stream",
     "text": [
      "Epoch [84/100], Train Loss: 0.6831, Val Accuracy: 89.58%\n"
     ]
    },
    {
     "name": "stdout",
     "output_type": "stream",
     "text": [
      "Epoch [85/100], Train Loss: 0.6873, Val Accuracy: 89.05%\n"
     ]
    },
    {
     "name": "stdout",
     "output_type": "stream",
     "text": [
      "Epoch [86/100], Train Loss: 0.6719, Val Accuracy: 89.47%\n"
     ]
    },
    {
     "name": "stdout",
     "output_type": "stream",
     "text": [
      "Epoch [87/100], Train Loss: 0.6900, Val Accuracy: 89.66%\n"
     ]
    },
    {
     "name": "stdout",
     "output_type": "stream",
     "text": [
      "Epoch [88/100], Train Loss: 0.6893, Val Accuracy: 89.13%\n"
     ]
    },
    {
     "name": "stdout",
     "output_type": "stream",
     "text": [
      "Epoch [89/100], Train Loss: 0.6869, Val Accuracy: 89.54%\n"
     ]
    },
    {
     "name": "stdout",
     "output_type": "stream",
     "text": [
      "Epoch [90/100], Train Loss: 0.6844, Val Accuracy: 89.99%\n"
     ]
    },
    {
     "name": "stdout",
     "output_type": "stream",
     "text": [
      "Epoch [91/100], Train Loss: 0.6944, Val Accuracy: 89.61%\n"
     ]
    },
    {
     "name": "stdout",
     "output_type": "stream",
     "text": [
      "Epoch [92/100], Train Loss: 0.6820, Val Accuracy: 89.12%\n"
     ]
    },
    {
     "name": "stdout",
     "output_type": "stream",
     "text": [
      "Epoch [93/100], Train Loss: 0.6912, Val Accuracy: 89.80%\n"
     ]
    },
    {
     "name": "stdout",
     "output_type": "stream",
     "text": [
      "Epoch [94/100], Train Loss: 0.6938, Val Accuracy: 88.66%\n"
     ]
    },
    {
     "name": "stdout",
     "output_type": "stream",
     "text": [
      "Epoch [95/100], Train Loss: 0.6830, Val Accuracy: 89.34%\n"
     ]
    },
    {
     "name": "stdout",
     "output_type": "stream",
     "text": [
      "Epoch [96/100], Train Loss: 0.6908, Val Accuracy: 89.02%\n"
     ]
    },
    {
     "name": "stdout",
     "output_type": "stream",
     "text": [
      "Epoch [97/100], Train Loss: 0.6880, Val Accuracy: 89.38%\n"
     ]
    },
    {
     "name": "stdout",
     "output_type": "stream",
     "text": [
      "Epoch [98/100], Train Loss: 0.6874, Val Accuracy: 89.74%\n"
     ]
    },
    {
     "name": "stdout",
     "output_type": "stream",
     "text": [
      "Epoch [99/100], Train Loss: 0.6754, Val Accuracy: 89.64%\n"
     ]
    },
    {
     "name": "stdout",
     "output_type": "stream",
     "text": [
      "Epoch [100/100], Train Loss: 0.6901, Val Accuracy: 89.87%\n",
      "Best Accuracy: 89.87%\n",
      "Best Parameters: Batch Size=128, Learning Rate=[0.001, 0.001, 0.0001]\n"
     ]
    }
   ],
   "source": [
    "best_acc = 0.0\n",
    "best_params = None\n",
    "\n",
    "for batch_size, learning_rate in product(batch_sizes, learning_rates):\n",
    "    print(f\"Training with batch_size={batch_size}, learning_rate={learning_rate}\")\n",
    "\n",
    "    # Data loaders\n",
    "    train_loader = DataLoader(data_train, batch_size=batch_size, shuffle=True)\n",
    "    val_loader = DataLoader(data_valid, batch_size=batch_size, shuffle=False)\n",
    "\n",
    "    # Initialize the model, loss, and optimizer\n",
    "    model = BiKA_MNIST().to(device)\n",
    "    criterion = nn.CrossEntropyLoss()\n",
    "\n",
    "    # Train and validate\n",
    "    val_acc = train_and_validate(model, train_loader, val_loader, criterion, learning_rate)\n",
    "\n",
    "    # Update best parameters\n",
    "    if val_acc > best_acc:\n",
    "        best_acc = val_acc\n",
    "        best_params = (batch_size, learning_rate)\n",
    "\n",
    "print(f\"Best Accuracy: {best_acc*100:.2f}%\")\n",
    "print(f\"Best Parameters: Batch Size={best_params[0]}, Learning Rate={best_params[1]}\")"
   ]
  },
  {
   "cell_type": "markdown",
   "id": "16633ed4-f117-4299-9b19-8b456704b1ca",
   "metadata": {},
   "source": [
    "## 6. Evaluate CNN-like BiKA for MNIST"
   ]
  },
  {
   "cell_type": "code",
   "execution_count": 17,
   "id": "c5648bc9-c478-47d1-ab86-912f11108936",
   "metadata": {
    "execution": {
     "iopub.execute_input": "2025-01-17T03:08:22.555528Z",
     "iopub.status.busy": "2025-01-17T03:08:22.555282Z",
     "iopub.status.idle": "2025-01-17T03:08:22.560518Z",
     "shell.execute_reply": "2025-01-17T03:08:22.559828Z"
    }
   },
   "outputs": [],
   "source": [
    "#train_loader = DataLoader(data_train, batch_size=best_params[0], shuffle=True)\n",
    "#val_loader = DataLoader(data_valid, batch_size=best_params[0], shuffle=False)\n",
    "test_loader = DataLoader(data_test, batch_size=best_params[0], shuffle=False)\n",
    "\n",
    "#model = BiKA_MNIST().to(device)\n",
    "#criterion = nn.CrossEntropyLoss()\n",
    "\n",
    "#train_and_validate(model, train_loader, val_loader, criterion, best_params[1])"
   ]
  },
  {
   "cell_type": "code",
   "execution_count": 18,
   "id": "84e7729e-d37e-4de7-88b4-19316eacde4b",
   "metadata": {
    "execution": {
     "iopub.execute_input": "2025-01-17T03:08:22.562811Z",
     "iopub.status.busy": "2025-01-17T03:08:22.562555Z",
     "iopub.status.idle": "2025-01-17T03:08:27.827466Z",
     "shell.execute_reply": "2025-01-17T03:08:27.826928Z"
    }
   },
   "outputs": [
    {
     "name": "stdout",
     "output_type": "stream",
     "text": [
      "Best Validation Accuracy: 89.87%\n",
      "Best Parameters: Batch Size=128, Learning Rate=[0.001, 0.001, 0.0001]\n"
     ]
    },
    {
     "name": "stdout",
     "output_type": "stream",
     "text": [
      "Test Accuracy: 90.42%\n"
     ]
    },
    {
     "data": {
      "text/plain": [
       "0.9042"
      ]
     },
     "execution_count": 18,
     "metadata": {},
     "output_type": "execute_result"
    }
   ],
   "source": [
    "print(f\"Best Validation Accuracy: {best_acc*100:.2f}%\")\n",
    "print(f\"Best Parameters: Batch Size={best_params[0]}, Learning Rate={best_params[1]}\")\n",
    "\n",
    "evaluate_model(model, test_loader)"
   ]
  },
  {
   "cell_type": "code",
   "execution_count": null,
   "id": "a103e389-5d81-4916-ba80-e336ce91aa5c",
   "metadata": {},
   "outputs": [],
   "source": []
  }
 ],
 "metadata": {
  "kernelspec": {
   "display_name": "Python 3 (ipykernel)",
   "language": "python",
   "name": "python3"
  },
  "language_info": {
   "codemirror_mode": {
    "name": "ipython",
    "version": 3
   },
   "file_extension": ".py",
   "mimetype": "text/x-python",
   "name": "python",
   "nbconvert_exporter": "python",
   "pygments_lexer": "ipython3",
   "version": "3.12.7"
  }
 },
 "nbformat": 4,
 "nbformat_minor": 5
}
