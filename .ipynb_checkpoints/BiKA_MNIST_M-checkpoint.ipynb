{
 "cells": [
  {
   "cell_type": "code",
   "execution_count": 1,
   "id": "32078029-f63c-4009-9a31-15a5c2ff3616",
   "metadata": {},
   "outputs": [],
   "source": [
    "import torchvision\n",
    "from torchvision import datasets\n",
    "from torchvision import transforms\n",
    "from torch.autograd import Variable"
   ]
  },
  {
   "cell_type": "code",
   "execution_count": 2,
   "id": "29ece099-1267-4309-a6cc-404d443fa914",
   "metadata": {},
   "outputs": [],
   "source": [
    "data_train = torchvision.datasets.MNIST('./data/', \n",
    "                                        train=True, download=True,\n",
    "                                        transform=torchvision.transforms.Compose\n",
    "                                        ([\n",
    "                                            torchvision.transforms.ToTensor(),\n",
    "                                            #torchvision.transforms.Normalize((0.1307,), (0.3081,))\n",
    "                                            torchvision.transforms.Normalize((0.5,), (0.5,))\n",
    "                                        ]))\n",
    "data_test = torchvision.datasets.MNIST('./data/', \n",
    "                                       train=False, download=True,\n",
    "                                       transform=torchvision.transforms.Compose\n",
    "                                       ([\n",
    "                                            torchvision.transforms.ToTensor(),\n",
    "                                            #torchvision.transforms.Normalize((0.1307,), (0.3081,))\n",
    "                                            torchvision.transforms.Normalize((0.5,), (0.5,))\n",
    "                                       ]))"
   ]
  },
  {
   "cell_type": "code",
   "execution_count": 3,
   "id": "7aaea6a0-bfc3-42a3-aa47-8243b3cc45fb",
   "metadata": {},
   "outputs": [],
   "source": [
    "import torch\n",
    "\n",
    "batch_size_train = 64\n",
    "batch_size_test = 512\n",
    "\n",
    "data_loader_train = torch.utils.data.DataLoader(dataset=data_train,\n",
    "                                                batch_size=batch_size_train, \n",
    "                                                shuffle=True)\n",
    "\n",
    "data_loader_test = torch.utils.data.DataLoader(dataset=data_test,\n",
    "                                               batch_size=batch_size_test, \n",
    "                                               shuffle=True)"
   ]
  },
  {
   "cell_type": "code",
   "execution_count": 4,
   "id": "70dc5312-78d3-42d1-9f6f-222538a2138e",
   "metadata": {},
   "outputs": [
    {
     "name": "stdout",
     "output_type": "stream",
     "text": [
      "tensor([[-1.0000, -1.0000, -1.0000, -1.0000, -1.0000, -1.0000, -1.0000, -1.0000,\n",
      "         -1.0000, -1.0000, -1.0000, -1.0000, -1.0000, -1.0000, -1.0000, -1.0000,\n",
      "         -1.0000, -1.0000, -1.0000, -1.0000, -1.0000, -1.0000, -1.0000, -1.0000,\n",
      "         -1.0000, -1.0000, -1.0000, -1.0000],\n",
      "        [-1.0000, -1.0000, -1.0000, -1.0000, -1.0000, -1.0000, -1.0000, -1.0000,\n",
      "         -1.0000, -1.0000, -1.0000, -1.0000, -1.0000, -1.0000, -1.0000, -1.0000,\n",
      "         -1.0000, -1.0000, -1.0000, -1.0000, -1.0000, -1.0000, -1.0000, -1.0000,\n",
      "         -1.0000, -1.0000, -1.0000, -1.0000],\n",
      "        [-1.0000, -1.0000, -1.0000, -1.0000, -1.0000, -1.0000, -1.0000, -1.0000,\n",
      "         -1.0000, -1.0000, -1.0000, -1.0000, -1.0000, -1.0000, -1.0000, -1.0000,\n",
      "         -1.0000, -1.0000, -1.0000, -1.0000, -1.0000, -1.0000, -1.0000, -1.0000,\n",
      "         -1.0000, -1.0000, -1.0000, -1.0000],\n",
      "        [-1.0000, -1.0000, -1.0000, -1.0000, -1.0000, -1.0000, -1.0000, -1.0000,\n",
      "         -1.0000, -1.0000, -1.0000, -1.0000, -1.0000, -1.0000, -1.0000, -1.0000,\n",
      "         -1.0000, -1.0000, -1.0000, -1.0000, -1.0000, -1.0000, -1.0000, -1.0000,\n",
      "         -1.0000, -1.0000, -1.0000, -1.0000],\n",
      "        [-1.0000, -1.0000, -1.0000, -1.0000, -1.0000, -1.0000, -1.0000, -1.0000,\n",
      "         -1.0000, -1.0000, -1.0000, -1.0000, -1.0000, -1.0000, -1.0000, -1.0000,\n",
      "         -1.0000, -1.0000, -1.0000, -1.0000, -1.0000, -1.0000, -1.0000, -1.0000,\n",
      "         -1.0000, -1.0000, -1.0000, -1.0000],\n",
      "        [-1.0000, -1.0000, -1.0000, -1.0000, -1.0000, -1.0000, -1.0000, -1.0000,\n",
      "         -1.0000, -1.0000, -0.5059,  1.0000,  0.9843,  0.9843,  0.3333, -0.1373,\n",
      "         -0.3882, -1.0000, -1.0000, -1.0000, -1.0000, -1.0000, -1.0000, -1.0000,\n",
      "         -1.0000, -1.0000, -1.0000, -1.0000],\n",
      "        [-1.0000, -1.0000, -1.0000, -1.0000, -1.0000, -1.0000, -1.0000, -1.0000,\n",
      "         -0.8353,  0.3804,  0.8588,  0.9843,  0.9765,  0.9765,  0.9765,  0.9843,\n",
      "          0.8980, -0.5137, -1.0000, -1.0000, -1.0000, -1.0000, -1.0000, -1.0000,\n",
      "         -1.0000, -1.0000, -1.0000, -1.0000],\n",
      "        [-1.0000, -1.0000, -1.0000, -1.0000, -1.0000, -1.0000, -1.0000, -0.8745,\n",
      "          0.4196,  0.9765,  0.9765,  0.9843,  0.9765,  0.9765,  0.9765,  0.9843,\n",
      "          0.9765,  0.3725, -1.0000, -1.0000, -1.0000, -1.0000, -1.0000, -1.0000,\n",
      "         -1.0000, -1.0000, -1.0000, -1.0000],\n",
      "        [-1.0000, -1.0000, -1.0000, -1.0000, -1.0000, -0.9922, -0.9922,  0.4980,\n",
      "          0.9765,  0.9765,  0.9765, -0.1529, -0.1529,  0.0039,  0.9765,  0.9843,\n",
      "          0.9765,  0.6863, -0.9922, -1.0000, -1.0000, -1.0000, -1.0000, -1.0000,\n",
      "         -1.0000, -1.0000, -1.0000, -1.0000],\n",
      "        [-1.0000, -1.0000, -1.0000, -1.0000, -1.0000, -0.2235,  0.9765,  0.9765,\n",
      "          0.9765,  0.3647, -0.5137, -1.0000, -1.0000, -1.0000,  0.1294,  0.9843,\n",
      "          0.9765,  0.9765, -0.1529, -1.0000, -1.0000, -1.0000, -1.0000, -1.0000,\n",
      "         -1.0000, -1.0000, -1.0000, -1.0000],\n",
      "        [-1.0000, -1.0000, -1.0000, -1.0000, -0.1765,  0.8980,  0.9765,  0.7255,\n",
      "         -0.5686, -0.9216, -1.0000, -1.0000, -1.0000, -1.0000, -0.8431,  0.9843,\n",
      "          0.9765,  0.9765,  0.8196, -1.0000, -1.0000, -1.0000, -1.0000, -1.0000,\n",
      "         -1.0000, -1.0000, -1.0000, -1.0000],\n",
      "        [-1.0000, -1.0000, -1.0000, -1.0000,  0.7020,  0.9294,  0.6863, -0.6784,\n",
      "         -1.0000, -1.0000, -1.0000, -1.0000, -1.0000, -1.0000, -0.1765,  0.9843,\n",
      "          0.9765,  0.9765,  0.8118, -1.0000, -1.0000, -1.0000, -1.0000, -1.0000,\n",
      "         -1.0000, -1.0000, -1.0000, -1.0000],\n",
      "        [-1.0000, -1.0000, -1.0000, -1.0000,  0.7020,  0.6863, -1.0000, -1.0000,\n",
      "         -1.0000, -1.0000, -1.0000, -1.0000, -1.0000, -0.8353,  0.6157,  0.9843,\n",
      "          0.9765,  0.8118, -0.6392, -1.0000, -1.0000, -1.0000, -1.0000, -1.0000,\n",
      "         -1.0000, -1.0000, -1.0000, -1.0000],\n",
      "        [-1.0000, -1.0000, -1.0000, -1.0000, -0.6706, -0.0196, -1.0000, -1.0000,\n",
      "         -1.0000, -1.0000, -1.0000, -1.0000, -0.4275,  0.9843,  0.9843,  1.0000,\n",
      "          0.9843,  0.8196, -0.1451, -0.5059, -1.0000, -1.0000, -1.0000, -1.0000,\n",
      "         -1.0000, -1.0000, -1.0000, -1.0000],\n",
      "        [-1.0000, -1.0000, -1.0000, -1.0000, -1.0000, -1.0000, -1.0000, -1.0000,\n",
      "         -1.0000, -1.0000, -1.0000, -1.0000,  0.5451,  0.9765,  0.9765,  0.9843,\n",
      "          0.9765,  0.9765,  0.9765,  0.8667, -0.4353, -1.0000, -1.0000, -1.0000,\n",
      "         -1.0000, -1.0000, -1.0000, -1.0000],\n",
      "        [-1.0000, -1.0000, -1.0000, -1.0000, -1.0000, -1.0000, -1.0000, -1.0000,\n",
      "         -1.0000, -1.0000, -1.0000, -1.0000, -0.1059,  0.9765,  0.9765,  0.9843,\n",
      "          0.9765,  0.9765,  0.9765,  0.9843,  0.8118, -0.5922, -1.0000, -1.0000,\n",
      "         -1.0000, -1.0000, -1.0000, -1.0000],\n",
      "        [-1.0000, -1.0000, -1.0000, -1.0000, -1.0000, -1.0000, -1.0000, -1.0000,\n",
      "         -1.0000, -1.0000, -1.0000, -1.0000, -0.7569,  0.0039,  0.9765,  0.9843,\n",
      "          0.6471,  0.0039,  0.9765,  0.9843,  0.9765, -0.4431, -1.0000, -1.0000,\n",
      "         -1.0000, -1.0000, -1.0000, -1.0000],\n",
      "        [-1.0000, -1.0000, -1.0000, -1.0000, -1.0000, -1.0000, -1.0000, -1.0000,\n",
      "         -1.0000, -1.0000, -1.0000, -1.0000, -1.0000, -1.0000, -1.0000, -1.0000,\n",
      "         -1.0000, -1.0000, -1.0000,  1.0000,  0.9843,  0.0431, -1.0000, -1.0000,\n",
      "         -1.0000, -1.0000, -1.0000, -1.0000],\n",
      "        [-1.0000, -1.0000, -1.0000, -1.0000, -1.0000, -1.0000, -1.0000, -1.0000,\n",
      "         -0.8353, -0.8353, -1.0000, -1.0000, -1.0000, -1.0000, -1.0000, -1.0000,\n",
      "         -1.0000, -1.0000, -0.0196,  0.9843,  0.9765,  0.3647, -1.0000, -1.0000,\n",
      "         -1.0000, -1.0000, -1.0000, -1.0000],\n",
      "        [-1.0000, -1.0000, -1.0000, -1.0000, -1.0000, -1.0000, -1.0000, -0.3804,\n",
      "          0.5765,  0.4118, -0.7098, -1.0000, -1.0000, -1.0000, -1.0000, -1.0000,\n",
      "         -0.7490, -0.5451,  0.7333,  0.9843,  0.9765, -0.4431, -1.0000, -1.0000,\n",
      "         -1.0000, -1.0000, -1.0000, -1.0000],\n",
      "        [-1.0000, -1.0000, -1.0000, -1.0000, -1.0000, -1.0000, -1.0000, -0.1451,\n",
      "          0.9765,  0.9765,  0.9765, -1.0000, -1.0000, -1.0000, -1.0000, -1.0000,\n",
      "          0.7020,  0.9765,  0.9765,  0.9843,  0.9765, -0.4431, -1.0000, -1.0000,\n",
      "         -1.0000, -1.0000, -1.0000, -1.0000],\n",
      "        [-1.0000, -1.0000, -1.0000, -1.0000, -1.0000, -1.0000, -1.0000, -0.1373,\n",
      "          0.9843,  0.9843,  0.9843,  1.0000,  0.0039, -0.1451, -0.1451,  1.0000,\n",
      "          0.9843,  0.9843,  0.9843,  1.0000,  0.7412, -0.6784, -1.0000, -1.0000,\n",
      "         -1.0000, -1.0000, -1.0000, -1.0000],\n",
      "        [-1.0000, -1.0000, -1.0000, -1.0000, -1.0000, -1.0000, -1.0000, -0.8824,\n",
      "         -0.3961,  0.8118,  0.9765,  0.9843,  0.9765,  0.9765,  0.9765,  0.9843,\n",
      "          0.9765,  0.9765,  0.6471, -0.0667, -0.8039, -1.0000, -1.0000, -1.0000,\n",
      "         -1.0000, -1.0000, -1.0000, -1.0000],\n",
      "        [-1.0000, -1.0000, -1.0000, -1.0000, -1.0000, -1.0000, -1.0000, -1.0000,\n",
      "         -1.0000,  0.2157,  0.8510,  0.9843,  0.9765,  0.9765,  0.9765,  0.9843,\n",
      "          0.7255, -0.1216, -0.7569, -1.0000, -1.0000, -1.0000, -1.0000, -1.0000,\n",
      "         -1.0000, -1.0000, -1.0000, -1.0000],\n",
      "        [-1.0000, -1.0000, -1.0000, -1.0000, -1.0000, -1.0000, -1.0000, -1.0000,\n",
      "         -1.0000, -1.0000, -0.5137, -0.1529, -0.1529,  0.0039,  0.3176, -0.1529,\n",
      "         -0.8824, -1.0000, -1.0000, -1.0000, -1.0000, -1.0000, -1.0000, -1.0000,\n",
      "         -1.0000, -1.0000, -1.0000, -1.0000],\n",
      "        [-1.0000, -1.0000, -1.0000, -1.0000, -1.0000, -1.0000, -1.0000, -1.0000,\n",
      "         -1.0000, -1.0000, -1.0000, -1.0000, -1.0000, -1.0000, -1.0000, -1.0000,\n",
      "         -1.0000, -1.0000, -1.0000, -1.0000, -1.0000, -1.0000, -1.0000, -1.0000,\n",
      "         -1.0000, -1.0000, -1.0000, -1.0000],\n",
      "        [-1.0000, -1.0000, -1.0000, -1.0000, -1.0000, -1.0000, -1.0000, -1.0000,\n",
      "         -1.0000, -1.0000, -1.0000, -1.0000, -1.0000, -1.0000, -1.0000, -1.0000,\n",
      "         -1.0000, -1.0000, -1.0000, -1.0000, -1.0000, -1.0000, -1.0000, -1.0000,\n",
      "         -1.0000, -1.0000, -1.0000, -1.0000],\n",
      "        [-1.0000, -1.0000, -1.0000, -1.0000, -1.0000, -1.0000, -1.0000, -1.0000,\n",
      "         -1.0000, -1.0000, -1.0000, -1.0000, -1.0000, -1.0000, -1.0000, -1.0000,\n",
      "         -1.0000, -1.0000, -1.0000, -1.0000, -1.0000, -1.0000, -1.0000, -1.0000,\n",
      "         -1.0000, -1.0000, -1.0000, -1.0000]])\n"
     ]
    },
    {
     "data": {
      "text/plain": [
       "torch.Size([1, 28, 28])"
      ]
     },
     "execution_count": 4,
     "metadata": {},
     "output_type": "execute_result"
    }
   ],
   "source": [
    "examples = enumerate(data_loader_train)\n",
    "batch_idx, (example_data, example_targets) = next(examples)\n",
    "print(example_data[0][0])\n",
    "example_data[0][0].shape\n",
    "example_data[0].shape"
   ]
  },
  {
   "cell_type": "code",
   "execution_count": 5,
   "id": "8429676e-326d-477a-aac1-9e6f76cd840f",
   "metadata": {},
   "outputs": [
    {
     "data": {
      "image/png": "[encoded data removed]",
      "text/plain": [
       "<Figure size 432x288 with 6 Axes>"
      ]
     },
     "execution_count": 5,
     "metadata": {},
     "output_type": "execute_result"
    },
    {
     "data": {
      "image/png": "[encoded data removed]",
      "text/plain": [
       "<Figure size 432x288 with 6 Axes>"
      ]
     },
     "metadata": {},
     "output_type": "display_data"
    }
   ],
   "source": [
    "import matplotlib.pyplot as plt\n",
    "\n",
    "fig = plt.figure()\n",
    "for i in range(6):\n",
    "  plt.subplot(2,3,i+1)\n",
    "  plt.tight_layout()\n",
    "  plt.imshow(example_data[i][0], cmap='gray', interpolation='none')\n",
    "  plt.title(\"Ground Truth: {}\".format(example_targets[i]))\n",
    "  plt.xticks([])\n",
    "  plt.yticks([])\n",
    "fig"
   ]
  },
  {
   "cell_type": "code",
   "execution_count": 6,
   "id": "01427b1c-0746-4dee-bdd6-e1bdef69f3bf",
   "metadata": {},
   "outputs": [],
   "source": [
    "import brevitas.nn as qnn\n",
    "import torch\n",
    "import torch.nn as nn\n",
    "from torch.nn import Module\n",
    "from brevitas.inject.enum import QuantType\n",
    "\n",
    "# Setting seeds for reproducibility\n",
    "torch.manual_seed(1)\n",
    "\n",
    "class BiKAThreshold(Module):\n",
    "    def __init__(self):\n",
    "        super(BiKAThreshold, self).__init__()\n",
    "\n",
    "        self.bn = nn.BatchNorm1d(1)\n",
    "        self.sign = qnn.QuantIdentity(\n",
    "                         quant_type=QuantType.BINARY,\n",
    "                         scaling_impl_type='const',\n",
    "                         bit_width=1,\n",
    "                         min_val=-1.0,\n",
    "                         max_val=1.0, \n",
    "                         return_quant_tensor=False\n",
    "                         )\n",
    "\n",
    "    def forward(self, x):\n",
    "        out = self.sign(self.bn(x))\n",
    "        return out\n",
    "\n",
    "class BiKANeuron(Module):\n",
    "    def __init__(self, in_channels):\n",
    "        super(BiKANeuron, self).__init__()\n",
    "        self.thresholds = nn.ModuleList([BiKAThreshold() for _ in range(in_channels)])\n",
    "\n",
    "    def forward(self, x):\n",
    "        # Apply BatchNorm and Quantization to each input channel\n",
    "        out = torch.cat([threshold(x[:, i:i+1]) for i, threshold in enumerate(self.thresholds)], dim=1)\n",
    "        return out.sum(dim=1)\n",
    "\n",
    "class BiKALinear(Module):\n",
    "    def __init__(self, in_channels, out_channels):\n",
    "        super(BiKALinear, self).__init__()\n",
    "        self.neurons = nn.ModuleList([BiKANeuron(in_channels) for _ in range(out_channels)])\n",
    "\n",
    "    def forward(self, x):\n",
    "        # Apply the BiKANeuron to each output channel\n",
    "        out = torch.stack([neuron(x) for neuron in self.neurons], dim=1)\n",
    "        return out\n",
    "\n",
    "class BiKA(Module):\n",
    "    def __init__(self):\n",
    "        super(BiKA, self).__init__()\n",
    "        self.fc0 = BiKALinear(784, 64)\n",
    "        self.fc1 = BiKALinear(64, 10)\n",
    "\n",
    "    def forward(self, x):\n",
    "        out = x.view(x.shape[0], -1)  # Flatten input\n",
    "        out = self.fc0(out)\n",
    "        out = self.fc1(out)\n",
    "        return out\n",
    "\n",
    "model = BiKA()"
   ]
  },
  {
   "cell_type": "code",
   "execution_count": 7,
   "id": "2f734d65-0546-472c-8661-0e1b58f344de",
   "metadata": {},
   "outputs": [
    {
     "name": "stdout",
     "output_type": "stream",
     "text": [
      "tensor([[0.],\n",
      "        [1.],\n",
      "        [2.],\n",
      "        [3.]])\n",
      "torch.Size([4, 1])\n",
      "tensor([[-1.],\n",
      "        [-1.],\n",
      "        [ 1.],\n",
      "        [ 1.]], grad_fn=<MulBackward0>)\n",
      "torch.Size([4, 1])\n"
     ]
    }
   ],
   "source": [
    "thres = BiKAThreshold()\n",
    "thres_in = torch.tensor([[0.0],[1.0],[2.0],[3.0]])\n",
    "print(thres_in)\n",
    "print(thres_in.shape)\n",
    "thres_out = thres(thres_in)\n",
    "print(thres_out)\n",
    "print(thres_out.shape)"
   ]
  },
  {
   "cell_type": "code",
   "execution_count": 8,
   "id": "7a9f6d55-e3e8-455b-b63d-b391adf02cfb",
   "metadata": {},
   "outputs": [
    {
     "name": "stdout",
     "output_type": "stream",
     "text": [
      "tensor([[0., 4.],\n",
      "        [1., 5.],\n",
      "        [2., 6.],\n",
      "        [3., 7.]])\n",
      "torch.Size([4, 2])\n",
      "tensor([-2., -2.,  2.,  2.], grad_fn=<SumBackward1>)\n",
      "torch.Size([4])\n"
     ]
    }
   ],
   "source": [
    "neuron = BiKANeuron(2)\n",
    "neuron_in = torch.tensor([[0.0, 4.0],[1.0, 5.0],[2.0, 6.0],[3.0, 7.0]])\n",
    "print(neuron_in)\n",
    "print(neuron_in.shape)\n",
    "neuron_out = neuron(neuron_in)\n",
    "print(neuron_out)\n",
    "print(neuron_out.shape)"
   ]
  },
  {
   "cell_type": "code",
   "execution_count": 9,
   "id": "2c051489-d7a2-43c3-9ac5-905a3d7f356b",
   "metadata": {},
   "outputs": [
    {
     "name": "stdout",
     "output_type": "stream",
     "text": [
      "tensor([[0., 4.],\n",
      "        [1., 5.],\n",
      "        [2., 6.],\n",
      "        [3., 7.]])\n",
      "torch.Size([4, 2])\n",
      "tensor([[-2., -2.],\n",
      "        [-2., -2.],\n",
      "        [ 2.,  2.],\n",
      "        [ 2.,  2.]], grad_fn=<StackBackward0>)\n",
      "torch.Size([4, 2])\n"
     ]
    }
   ],
   "source": [
    "linear = BiKALinear(2,2)\n",
    "linear_in = torch.tensor([[0.0, 4.0],[1.0, 5.0],[2.0, 6.0],[3.0, 7.0]])\n",
    "print(linear_in)\n",
    "print(linear_in.shape)\n",
    "linear_out = linear(linear_in)\n",
    "print(linear_out)\n",
    "print(linear_out.shape)"
   ]
  },
  {
   "cell_type": "code",
   "execution_count": 10,
   "id": "6f8badda-7968-4a2d-9f07-a95e1962f8b0",
   "metadata": {},
   "outputs": [],
   "source": [
    "def train(model, train_loader, optimizer, criterion):\n",
    "    losses = []\n",
    "    # ensure model is in training mode\n",
    "    model.train()    \n",
    "    \n",
    "    for i, data in enumerate(train_loader, 0):        \n",
    "        inputs, target = data\n",
    "        #inputs, target = inputs.cuda(), target.cuda()\n",
    "        inputs, target = Variable(inputs), Variable(target)\n",
    "        \n",
    "        outputs = model(inputs)\n",
    "        _,pred = torch.max(outputs.data,1)\n",
    "        \n",
    "        optimizer.zero_grad()\n",
    "        loss = criterion(outputs,target)\n",
    " \n",
    "        loss.backward()\n",
    "        optimizer.step()\n",
    "        \n",
    "        # keep track of loss value\n",
    "        losses.append(loss.data.numpy()) \n",
    "           \n",
    "    return losses"
   ]
  },
  {
   "cell_type": "code",
   "execution_count": 11,
   "id": "5075d326-14be-41f4-8ba3-87914e9f1825",
   "metadata": {},
   "outputs": [],
   "source": [
    "import torch\n",
    "from sklearn.metrics import accuracy_score\n",
    "\n",
    "def test(model, test_loader):    \n",
    "    # ensure model is in eval mode\n",
    "    model.eval() \n",
    "    y_true = []\n",
    "    y_pred = []\n",
    "   \n",
    "    with torch.no_grad():\n",
    "        for data in test_loader:\n",
    "            inputs, target = data\n",
    "            #inputs, target = inputs.cuda(), target.cuda()\n",
    "            inputs, target = Variable(inputs),Variable(target)\n",
    "            output = model(inputs)\n",
    "            #output = torch.sigmoid(output_orig)  \n",
    "            _,pred = torch.max(output,1)\n",
    "            # compare against a threshold of 0.5 to generate 0/1\n",
    "            y_true.extend(target.tolist()) \n",
    "            y_pred.extend(pred.reshape(-1).tolist())\n",
    "        \n",
    "    return accuracy_score(y_true, y_pred)"
   ]
  },
  {
   "cell_type": "code",
   "execution_count": 12,
   "id": "a1c79ac5-b436-4aba-a3b9-2fca1121f7cd",
   "metadata": {
    "scrolled": true
   },
   "outputs": [],
   "source": [
    "num_epochs = 20\n",
    "learn_rate = 0.001 \n",
    "\n",
    "def display_loss_plot(losses, title=\"Training loss\", xlabel=\"Iterations\", ylabel=\"Loss\"):\n",
    "    x_axis = [i for i in range(len(losses))]\n",
    "    plt.plot(x_axis,losses)\n",
    "    plt.title(title)\n",
    "    plt.xlabel(xlabel)\n",
    "    plt.ylabel(ylabel)\n",
    "    plt.show()"
   ]
  },
  {
   "cell_type": "code",
   "execution_count": 13,
   "id": "ad0f7e20-34cd-40c6-9289-d43b58638d63",
   "metadata": {},
   "outputs": [],
   "source": [
    "# loss criterion and optimizer\n",
    "criterion = torch.nn.CrossEntropyLoss()\n",
    "optimizer = torch.optim.Adam(model.parameters(), lr=learn_rate, betas=(0.9, 0.999))"
   ]
  },
  {
   "cell_type": "code",
   "execution_count": null,
   "id": "38ad03d0-b273-48ba-9a3c-2cc60adb2e9d",
   "metadata": {
    "scrolled": true
   },
   "outputs": [
    {
     "name": "stderr",
     "output_type": "stream",
     "text": [
      "Training loss = 23.479391 test accuracy = 0.215000:  10%| | 2/20 [5:15:17<47:17:"
     ]
    }
   ],
   "source": [
    "import numpy as np\n",
    "from sklearn.metrics import accuracy_score\n",
    "from tqdm import tqdm, trange\n",
    "\n",
    "# Setting seeds for reproducibility\n",
    "torch.manual_seed(0)\n",
    "np.random.seed(0)\n",
    "\n",
    "running_loss = []\n",
    "running_test_acc = []\n",
    "t = trange(num_epochs, desc=\"Training loss\", leave=True)\n",
    "\n",
    "for epoch in t:\n",
    "        loss_epoch = train(model, data_loader_train, optimizer, criterion)\n",
    "        test_acc = test(model, data_loader_test)\n",
    "        t.set_description(\"Training loss = %f test accuracy = %f\" % (np.mean(loss_epoch), test_acc))\n",
    "        t.refresh() # to show immediately the update           \n",
    "        running_loss.append(loss_epoch)\n",
    "        running_test_acc.append(test_acc)"
   ]
  },
  {
   "cell_type": "code",
   "execution_count": null,
   "id": "2abc71ab-6a7b-4497-8927-63a4d823cdf8",
   "metadata": {},
   "outputs": [],
   "source": [
    "%matplotlib inline\n",
    "import matplotlib.pyplot as plt\n",
    "\n",
    "loss_per_epoch = [np.mean(loss_per_epoch) for loss_per_epoch in running_loss]\n",
    "display_loss_plot(loss_per_epoch)"
   ]
  },
  {
   "cell_type": "code",
   "execution_count": null,
   "id": "1619061f-8f5f-42a2-92c9-fa25d5b77be1",
   "metadata": {},
   "outputs": [],
   "source": [
    "acc_per_epoch = [np.mean(acc_per_epoch) for acc_per_epoch in running_test_acc]\n",
    "display_loss_plot(acc_per_epoch, title=\"Test accuracy\", ylabel=\"Accuracy [%]\")"
   ]
  },
  {
   "cell_type": "code",
   "execution_count": null,
   "id": "c622686d-472e-4bf4-9367-ccc5ad59d25a",
   "metadata": {},
   "outputs": [],
   "source": [
    "test(model, data_loader_test)"
   ]
  }
 ],
 "metadata": {
  "kernelspec": {
   "display_name": "Python 3 (ipykernel)",
   "language": "python",
   "name": "python3"
  },
  "language_info": {
   "codemirror_mode": {
    "name": "ipython",
    "version": 3
   },
   "file_extension": ".py",
   "mimetype": "text/x-python",
   "name": "python",
   "nbconvert_exporter": "python",
   "pygments_lexer": "ipython3",
   "version": "3.7.13"
  }
 },
 "nbformat": 4,
 "nbformat_minor": 5
}
