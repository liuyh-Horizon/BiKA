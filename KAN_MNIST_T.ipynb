{
 "cells": [
  {
   "cell_type": "markdown",
   "id": "9fd84bc6-b2f1-4751-8032-d46da4efafb5",
   "metadata": {},
   "source": [
    "# Load MNIST"
   ]
  },
  {
   "cell_type": "code",
   "execution_count": 1,
   "id": "2d5fe757-2c40-4ba6-a8a7-b8e820cc0a65",
   "metadata": {},
   "outputs": [],
   "source": [
    "from kan import *\n",
    "import torch\n",
    "import torch.nn as nn\n",
    "from torch.utils.data import DataLoader\n",
    "import torchvision\n",
    "from torchvision import datasets\n",
    "from torchvision.transforms import ToTensor\n",
    "import numpy as np\n",
    "import matplotlib.pyplot as plt\n",
    "import os\n",
    "device = torch.device('cpu')"
   ]
  },
  {
   "cell_type": "code",
   "execution_count": 2,
   "id": "9c2c0e5a-d8d0-4e89-a646-382a139585c8",
   "metadata": {},
   "outputs": [],
   "source": [
    "train_data = torchvision.datasets.MNIST(root=\"./data/\", train=True, download=True, transform=None)\n",
    "test_data = torchvision.datasets.MNIST(root=\"./data/\", train=False, download=True, transform=None)\n",
    "\n",
    "def preprocess_data(data):\n",
    "    images = []\n",
    "    labels = []\n",
    "    for img, label in data:\n",
    "        img = np.array(img)\n",
    "        img = img.flatten() / 255.0\n",
    "        images.append(img)\n",
    "        labels.append(label)\n",
    "    return np.array(images), np.array(labels)\n",
    "\n",
    "train_images, train_labels = preprocess_data(train_data)\n",
    "test_images, test_labels = preprocess_data(test_data)\n",
    "\n",
    "dataset = {\n",
    "    \"train_input\": torch.from_numpy(train_images).float().to(device),\n",
    "    \"train_label\": torch.from_numpy(train_labels).long().to(device),\n",
    "    \"test_input\": torch.from_numpy(test_images).float().to(device),\n",
    "    \"test_label\": torch.from_numpy(test_labels).long().to(device),\n",
    "}"
   ]
  },
  {
   "cell_type": "markdown",
   "id": "cf7bcb7f-818d-44e3-8573-fafd8278f380",
   "metadata": {},
   "source": [
    "# Train Tiny KAN Model"
   ]
  },
  {
   "cell_type": "code",
   "execution_count": 3,
   "id": "3d23fbf7-d4a3-45b6-85ff-cd50fb7c2102",
   "metadata": {
    "scrolled": true
   },
   "outputs": [
    {
     "name": "stdout",
     "output_type": "stream",
     "text": [
      "checkpoint directory created: ./model\n",
      "saving model version 0.0\n",
      "MultKAN(\n",
      "  (act_fun): ModuleList(\n",
      "    (0-3): 4 x KANLayer(\n",
      "      (base_fun): SiLU()\n",
      "    )\n",
      "  )\n",
      "  (base_fun): SiLU()\n",
      "  (symbolic_fun): ModuleList(\n",
      "    (0-3): 4 x Symbolic_KANLayer()\n",
      "  )\n",
      ")\n"
     ]
    }
   ],
   "source": [
    "def create_kan():\n",
    "    return KAN(width=[784,64,64,64,10], grid=4, k=2).to(device)\n",
    "    \n",
    "model = create_kan()\n",
    "print(model)"
   ]
  },
  {
   "cell_type": "code",
   "execution_count": 4,
   "id": "8c0e0ceb-f70a-4f50-bc17-3dfc684f127f",
   "metadata": {},
   "outputs": [
    {
     "name": "stderr",
     "output_type": "stream",
     "text": [
      "| train_loss: 3.36e-01 | test_loss: 1.21e+00 | reg: 9.28e+03 | : 100%|█| 20/20 [05:08<00:00, 15.45s/\n"
     ]
    },
    {
     "name": "stdout",
     "output_type": "stream",
     "text": [
      "saving model version 0.1\n"
     ]
    }
   ],
   "source": [
    "def test_acc():\n",
    "    with torch.no_grad():\n",
    "        predictions = torch.argmax(model(dataset[\"test_input\"]), dim=1)\n",
    "        correct = (predictions == dataset[\"test_label\"]).float()\n",
    "        accuracy = correct.mean()\n",
    "    return accuracy\n",
    "\n",
    "def train_acc():\n",
    "    with torch.no_grad():\n",
    "        predictions = torch.argmax(model(dataset[\"train_input\"].to('cpu')), dim=1)\n",
    "        correct = (predictions == dataset[\"train_label\"].to('cpu')).float()\n",
    "        accuracy = correct.mean()\n",
    "    return accuracy\n",
    "\n",
    "# Train the model\n",
    "results = model.fit(\n",
    "    dataset,\n",
    "    opt=\"LBFGS\",\n",
    "    steps=20,\n",
    "    batch=512,\n",
    "    loss_fn=torch.nn.CrossEntropyLoss(),\n",
    "    metrics=(train_acc, test_acc)\n",
    ")"
   ]
  },
  {
   "cell_type": "code",
   "execution_count": 5,
   "id": "04cec2ea-26df-4e6b-986e-efb6a1e33b6d",
   "metadata": {},
   "outputs": [],
   "source": [
    "torch.save(model.state_dict(), \"kan_mnist_t.pth\")"
   ]
  },
  {
   "cell_type": "code",
   "execution_count": 6,
   "id": "33f3eb1b-5931-4453-8a31-f440ed917441",
   "metadata": {},
   "outputs": [
    {
     "name": "stdout",
     "output_type": "stream",
     "text": [
      "checkpoint directory created: ./model\n",
      "saving model version 0.0\n"
     ]
    },
    {
     "name": "stderr",
     "output_type": "stream",
     "text": [
      "/tmp/ipykernel_135045/189101918.py:3: FutureWarning: You are using `torch.load` with `weights_only=False` (the current default value), which uses the default pickle module implicitly. It is possible to construct malicious pickle data which will execute arbitrary code during unpickling (See https://github.com/pytorch/pytorch/blob/main/SECURITY.md#untrusted-models for more details). In a future release, the default value for `weights_only` will be flipped to `True`. This limits the functions that could be executed during unpickling. Arbitrary objects will no longer be allowed to be loaded via this mode unless they are explicitly allowlisted by the user via `torch.serialization.add_safe_globals`. We recommend you start setting `weights_only=True` for any use case where you don't have full control of the loaded file. Please open an issue on GitHub for any issues related to this experimental feature.\n",
      "  model.load_state_dict(torch.load(\"kan_mnist_t.pth\"))\n"
     ]
    },
    {
     "name": "stdout",
     "output_type": "stream",
     "text": [
      "Test accuracy: 78.07%\n",
      "total number of parameters: 835704\n"
     ]
    },
    {
     "data": {
      "text/plain": [
       "<matplotlib.legend.Legend at 0x7fd05c02e220>"
      ]
     },
     "execution_count": 6,
     "metadata": {},
     "output_type": "execute_result"
    },
    {
     "data": {
      "image/png": "[encoded data removed]",
      "text/plain": [
       "<Figure size 640x480 with 1 Axes>"
      ]
     },
     "metadata": {},
     "output_type": "display_data"
    }
   ],
   "source": [
    "del model\n",
    "model = create_kan()\n",
    "model.load_state_dict(torch.load(\"kan_mnist_t.pth\"))\n",
    "\n",
    "acc = test_acc()\n",
    "print(f\"Test accuracy: {acc.item() * 100:.2f}%\")\n",
    "total_params = sum(p.numel() for p in model.parameters())\n",
    "print(f\"total number of parameters: {total_params}\")\n",
    "\n",
    "plt.plot(results[\"train_acc\"], label=\"train\")\n",
    "plt.plot(results[\"test_acc\"], label=\"test\")\n",
    "plt.legend()"
   ]
  }
 ],
 "metadata": {
  "kernelspec": {
   "display_name": "Python 3 (ipykernel)",
   "language": "python",
   "name": "python3"
  },
  "language_info": {
   "codemirror_mode": {
    "name": "ipython",
    "version": 3
   },
   "file_extension": ".py",
   "mimetype": "text/x-python",
   "name": "python",
   "nbconvert_exporter": "python",
   "pygments_lexer": "ipython3",
   "version": "3.10.9"
  }
 },
 "nbformat": 4,
 "nbformat_minor": 5
}
