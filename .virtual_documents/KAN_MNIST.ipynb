from kan import *
import torch
import torch.nn as nn
from torch.utils.data import DataLoader
from torchvision import datasets
from torchvision.transforms import ToTensor
import numpy as np
import matplotlib.pyplot as plt
import os
device = torch.device('cpu')


train_dataset = datasets.MNIST('./data/', train=True, download=True, transform=ToTensor())
test_dataset = datasets.MNIST('./data/', train=False, download=True, transform=ToTensor())


model = KAN(width=[784,64,64,64,10]).to(device)


dataset = {}
dataset['train_input'] = torch.flatten(train_dataset.data, start_dim=1).to(torch.float32).to(device)
dataset['test_input'] = torch.flatten(test_dataset.data, start_dim=1).to(torch.float32).to(device)
dataset['train_label'] = train_dataset.targets.to(torch.float32).to(device)
dataset['test_label'] = test_dataset.targets.to(torch.float32).to(device)


results = model.train(dataset, opt="LBFGS", steps=20, loss_fn=torch.nn.CrossEntropyLoss(), batch=64, device='cpu');



