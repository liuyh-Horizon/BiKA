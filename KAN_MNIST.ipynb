{
 "cells": [
  {
   "cell_type": "code",
   "execution_count": 1,
   "id": "2d5fe757-2c40-4ba6-a8a7-b8e820cc0a65",
   "metadata": {},
   "outputs": [],
   "source": [
    "from kan import *\n",
    "import torch\n",
    "import torch.nn as nn\n",
    "from torch.utils.data import DataLoader\n",
    "import torchvision\n",
    "from torchvision import datasets\n",
    "from torchvision.transforms import ToTensor\n",
    "import numpy as np\n",
    "import matplotlib.pyplot as plt\n",
    "import os\n",
    "device = torch.device('cpu')"
   ]
  },
  {
   "cell_type": "code",
   "execution_count": 2,
   "id": "9c2c0e5a-d8d0-4e89-a646-382a139585c8",
   "metadata": {},
   "outputs": [],
   "source": [
    "plt.style.use('dark_background')\n",
    "train_data = torchvision.datasets.MNIST(root=\"./data/\", train=True, download=True, transform=None)\n",
    "test_data = torchvision.datasets.MNIST(root=\"./data/\", train=False, download=True, transform=None)\n",
    "\n",
    "def preprocess_data(data):\n",
    "    images = []\n",
    "    labels = []\n",
    "    for img, label in data:\n",
    "        img = np.array(img)\n",
    "        img = img.flatten() / 255.0\n",
    "        images.append(img)\n",
    "        labels.append(label)\n",
    "    return np.array(images), np.array(labels)\n",
    "\n",
    "train_images, train_labels = preprocess_data(train_data)\n",
    "test_images, test_labels = preprocess_data(test_data)\n",
    "\n",
    "dataset = {\n",
    "    \"train_input\": torch.from_numpy(train_images).float().to(device),\n",
    "    \"train_label\": torch.from_numpy(train_labels).long().to(device),\n",
    "    \"test_input\": torch.from_numpy(test_images).float().to(device),\n",
    "    \"test_label\": torch.from_numpy(test_labels).long().to(device),\n",
    "}"
   ]
  },
  {
   "cell_type": "code",
   "execution_count": 3,
   "id": "3d23fbf7-d4a3-45b6-85ff-cd50fb7c2102",
   "metadata": {
    "scrolled": true
   },
   "outputs": [
    {
     "name": "stdout",
     "output_type": "stream",
     "text": [
      "checkpoint directory created: ./model\n",
      "saving model version 0.0\n"
     ]
    }
   ],
   "source": [
    "model = KAN(width=[784,64,64,64,10]).to(device)"
   ]
  },
  {
   "cell_type": "code",
   "execution_count": null,
   "id": "8c0e0ceb-f70a-4f50-bc17-3dfc684f127f",
   "metadata": {},
   "outputs": [
    {
     "name": "stderr",
     "output_type": "stream",
     "text": [
      "description:   0%|                                                           | 0/10 [00:00<?, ?it/s]"
     ]
    }
   ],
   "source": [
    "def test_acc():\n",
    "    with torch.no_grad():\n",
    "        predictions = torch.argmax(model(dataset[\"test_input\"]), dim=1)\n",
    "        correct = (predictions == dataset[\"test_label\"]).float()\n",
    "        accuracy = correct.mean()\n",
    "    return accuracy\n",
    "\n",
    "def train_acc():\n",
    "    with torch.no_grad():\n",
    "        predictions = torch.argmax(model(dataset[\"train_input\"].to('cpu')), dim=1)\n",
    "        correct = (predictions == dataset[\"train_label\"].to('cpu')).float()\n",
    "        accuracy = correct.mean()\n",
    "    return accuracy\n",
    "\n",
    "# Train the model\n",
    "results = model.fit(\n",
    "    dataset,\n",
    "    opt=\"LBFGS\",\n",
    "    steps=10,\n",
    "    batch=64,\n",
    "    loss_fn=torch.nn.CrossEntropyLoss(),\n",
    "    metrics=(train_acc, test_acc),\n",
    ")"
   ]
  },
  {
   "cell_type": "code",
   "execution_count": null,
   "id": "04cec2ea-26df-4e6b-986e-efb6a1e33b6d",
   "metadata": {},
   "outputs": [],
   "source": [
    "torch.save(model.state_dict(), \"kan.pth\")"
   ]
  },
  {
   "cell_type": "code",
   "execution_count": null,
   "id": "33f3eb1b-5931-4453-8a31-f440ed917441",
   "metadata": {},
   "outputs": [],
   "source": [
    "del model\n",
    "model = create_kan()\n",
    "model.load_state_dict(torch.load(\"kan.pth\"))\n",
    "\n",
    "acc = test_acc()\n",
    "print(f\"Test accuracy: {acc.item() * 100:.2f}%\")\n",
    "total_params = sum(p.numel() for p in model.parameters())\n",
    "print(f\"total number of parameters: {total_params}\")\n",
    "\n",
    "plt.plot(results[\"train_acc\"], label=\"train\")\n",
    "plt.plot(results[\"test_acc\"], label=\"test\")\n",
    "plt.legend()"
   ]
  }
 ],
 "metadata": {
  "kernelspec": {
   "display_name": "Python 3 (ipykernel)",
   "language": "python",
   "name": "python3"
  },
  "language_info": {
   "codemirror_mode": {
    "name": "ipython",
    "version": 3
   },
   "file_extension": ".py",
   "mimetype": "text/x-python",
   "name": "python",
   "nbconvert_exporter": "python",
   "pygments_lexer": "ipython3",
   "version": "3.9.7"
  }
 },
 "nbformat": 4,
 "nbformat_minor": 5
}
